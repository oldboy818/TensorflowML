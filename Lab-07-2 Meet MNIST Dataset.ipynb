{
 "cells": [
  {
   "cell_type": "markdown",
   "id": "48148c93",
   "metadata": {},
   "source": [
    "# 모두를 위한 딥러닝\n",
    "## Lab-07-2 Meet MNIST Dataset"
   ]
  },
  {
   "cell_type": "code",
   "execution_count": 70,
   "id": "f84ca1ee",
   "metadata": {},
   "outputs": [],
   "source": [
    "import tensorflow as tf\n",
    "import matplotlib.pyplot as plt\n",
    "import random\n",
    "import numpy as np\n",
    "\n",
    "tf.compat.v1.set_random_seed(777)  # for reproducibility"
   ]
  },
  {
   "cell_type": "markdown",
   "id": "ac6ff31d",
   "metadata": {},
   "source": [
    "### Reading data and set variables"
   ]
  },
  {
   "cell_type": "code",
   "execution_count": 71,
   "id": "92c2b632",
   "metadata": {},
   "outputs": [
    {
     "name": "stdout",
     "output_type": "stream",
     "text": [
      "Extracting MNIST_data/train-images-idx3-ubyte.gz\n",
      "Extracting MNIST_data/train-labels-idx1-ubyte.gz\n",
      "Extracting MNIST_data/t10k-images-idx3-ubyte.gz\n",
      "Extracting MNIST_data/t10k-labels-idx1-ubyte.gz\n"
     ]
    }
   ],
   "source": [
    "# MNIST Dataset Setting\n",
    "\n",
    "from tensorflow.examples.tutorials.mnist import input_data\n",
    "\n",
    "mnist = input_data.read_data_sets(\"MNIST_data/\", one_hot=True)"
   ]
  },
  {
   "cell_type": "code",
   "execution_count": 72,
   "id": "b92ad21e",
   "metadata": {},
   "outputs": [],
   "source": [
    "# 출력이 숫자 0~9, 총 10개의 숫자를 구분하는 것이니 nb_classes = 10\n",
    "nb_classes = 10\n",
    "\n",
    "# MNIST data image of shape 28 * 28 = 784\n",
    "\n",
    "X = tf.placeholder(tf.float32, [None, 784])\n",
    "\n",
    "# 0 - 9 digits recognition = 10 classes\n",
    "Y = tf.compat.v1.placeholder(tf.float32, [None, nb_classes])\n",
    "\n",
    "# MNIST data X의 shape가 [,784]이므로 XW = b 에서 W.shape = [784, nb_classes]\n",
    "W = tf.Variable(tf.random.normal([784, nb_classes]))\n",
    "b = tf.Variable(tf.random.normal([nb_classes]))"
   ]
  },
  {
   "cell_type": "markdown",
   "id": "b16d09b4",
   "metadata": {},
   "source": [
    "### Softmax function = Hypothesis\n",
    "$$\n",
    "S(y_i)=\\frac{e^{y_i}}{\\sum_{j}e^{y_i}}$$\n",
    "\n",
    "**Softmax func은 Hypothesis가 되고**, 그 출력값은 0~1 범위 내의 값이고, 모든 출력값의 합은 1이다. 즉 각각을 확률로 볼 수 있다는 말이다.\n",
    "\n",
    "그렇다면 **Cost function**은 어떻게 될까?\n",
    "\n",
    "$$\n",
    "CROSS-ENTROPY: D(S, L) = -\\sum_{i}L_{i}log(S_i)\\\\\n",
    "이때, S는\\ Softmax func의\\ 출력값\\ S(y)=\\bar{y}이고\\ L은\\ 결과값\\ Y이다.$$\n",
    "\n",
    "softmax func을 hypothesis로 받아 구하는 cost function을 **Cross-entropy**라고 한다."
   ]
  },
  {
   "cell_type": "code",
   "execution_count": 73,
   "id": "5aca3b97",
   "metadata": {},
   "outputs": [],
   "source": [
    "# Hypothesis using softmax function\n",
    "\n",
    "hypothesis = tf.nn.softmax(tf.matmul(X,W) + b)\n",
    "\n",
    "# Cost\n",
    "\n",
    "cost = tf.reduce_mean(-tf.reduce_sum(Y * tf.math.log(hypothesis), axis=1))\n",
    "\n",
    "# Gradient descent\n",
    "\n",
    "train = tf.compat.v1.train.GradientDescentOptimizer(learning_rate=0.1).minimize(cost)"
   ]
  },
  {
   "cell_type": "code",
   "execution_count": 74,
   "id": "799dbdf3",
   "metadata": {},
   "outputs": [],
   "source": [
    "# Test model\n",
    "\n",
    "# Y (labels)과 hypothesis의 각 행에서 가장 큰 값이 같은지 비교.\n",
    "is_correct = tf.equal(tf.argmax(hypothesis, 1), tf.argmax(Y, 1))\n",
    "\n",
    "# Calculate accuracy\n",
    "accuracy = tf.reduce_mean(tf.cast(is_correct, tf.float32))"
   ]
  },
  {
   "cell_type": "markdown",
   "id": "68969014",
   "metadata": {},
   "source": [
    "* tf.argmax\n",
    "\n",
    "행렬 A가 2차원 배열일 때, 최대 Index 수 = rank = 2로,\\\n",
    "**tf.argmax(A,0)**은 2차원 배열의 **각 열에서** 가장 큰 값을 찾아 **인덱스를 반환**한다.\\\n",
    "**tf.argmax(A,1)**은 2차원 배열의 **각 행에서** 가장 큰 값을 찾아 **인덱스를 반환**한다."
   ]
  },
  {
   "cell_type": "markdown",
   "id": "e3092000",
   "metadata": {},
   "source": [
    "### Training epoch & batch"
   ]
  },
  {
   "cell_type": "code",
   "execution_count": 75,
   "id": "b65eacb9",
   "metadata": {},
   "outputs": [],
   "source": [
    "# parameters\n",
    "num_epochs = 15\n",
    "batch_size = 100\n",
    "num_iterations = int(mnist.train.num_examples / batch_size)"
   ]
  },
  {
   "cell_type": "markdown",
   "id": "f3307961",
   "metadata": {},
   "source": [
    "* **epoch**\\\n",
    "= one forward pass and one backward pass of all the training examples\n",
    "\n",
    "* **batch size**\\\n",
    "= the number of training examples in one forward/backward pass. The higher the batch size, the more memory space you'll need\n",
    "\n",
    "* **number of iterations**\\\n",
    "= number of passes, each pass using [batch sie] number of examples. To be clear, one pass = one forward pass + one backward pass (we do not count the forward pass and backward pass as two different passes)."
   ]
  },
  {
   "cell_type": "code",
   "execution_count": 80,
   "id": "62beb31a",
   "metadata": {},
   "outputs": [
    {
     "name": "stdout",
     "output_type": "stream",
     "text": [
      "Epoch: 0001, Cost: 2.659803869\n",
      "Epoch: 0002, Cost: 1.058210353\n",
      "Epoch: 0003, Cost: 0.836368982\n",
      "Epoch: 0004, Cost: 0.727535176\n",
      "Epoch: 0005, Cost: 0.659685686\n",
      "Epoch: 0006, Cost: 0.611511747\n",
      "Epoch: 0007, Cost: 0.575702926\n",
      "Epoch: 0008, Cost: 0.548183695\n",
      "Epoch: 0009, Cost: 0.525436045\n",
      "Epoch: 0010, Cost: 0.506575538\n",
      "Epoch: 0011, Cost: 0.490068723\n",
      "Epoch: 0012, Cost: 0.476990278\n",
      "Epoch: 0013, Cost: 0.464764345\n",
      "Epoch: 0014, Cost: 0.454043312\n",
      "Epoch: 0015, Cost: 0.444558110\n",
      "Learning finished\n",
      "Accuracy:  0.8915\n",
      "Label:  [8]\n",
      "Prediction:  [8]\n"
     ]
    },
    {
     "data": {
      "image/png": "[encoded data removed]",
      "text/plain": [
       "<Figure size 432x288 with 1 Axes>"
      ]
     },
     "metadata": {
      "needs_background": "light"
     },
     "output_type": "display_data"
    }
   ],
   "source": [
    "with tf.Session() as sess:\n",
    "    \n",
    "    # Initialize TensorFlow variables\n",
    "    sess.run(tf.compat.v1.global_variables_initializer())\n",
    "    \n",
    "    # Training cycle\n",
    "    for epoch in range(num_epochs):\n",
    "        avg_cost = 0\n",
    "\n",
    "        for i in range(num_iterations):\n",
    "            batch_xs, batch_ys = mnist.train.next_batch(batch_size)\n",
    "            c_, cost_val = sess.run([train, cost], feed_dict={X: batch_xs, Y: batch_ys})\n",
    "            avg_cost += cost_val / num_iterations\n",
    "\n",
    "        print(\"Epoch: {:04d}, Cost: {:.9f}\".format(epoch + 1, avg_cost))\n",
    "\n",
    "    print(\"Learning finished\")\n",
    "    \n",
    "    # Test the model using test sets\n",
    "    print(\n",
    "        \"Accuracy: \", \n",
    "        accuracy.eval(\n",
    "            session=sess, feed_dict={X: mnist.test.images, Y: mnist.test.labels}\n",
    "        ),\n",
    "    )\n",
    "    \n",
    "    \n",
    "### Sample image show and prediction\n",
    "\n",
    "    # Get one and predict\n",
    "    \n",
    "    # 랜덤하게 데이터를 하나 가져온다.\n",
    "    r = random.randint(0, mnist.test.num_examples - 1)\n",
    "    \n",
    "    # 읽어온 labels의 argmax index를 뽑는다.\n",
    "    print(\"Label: \", sess.run(tf.argmax(mnist.test.labels[r : r + 1], 1)))\n",
    "    print(\n",
    "        \n",
    "        # 그 index와 hypothesis를 통해 예상한 값과 비교.\n",
    "        \"Prediction: \",\n",
    "        sess.run(tf.argmax(hypothesis, 1), feed_dict={X: mnist.test.images[r : r + 1]}),\n",
    "    )\n",
    "    \n",
    "    # 따온 이미지를 출력\n",
    "    plt.imshow(\n",
    "        mnist.test.images[r : r + 1].reshape(28, 28),\n",
    "        cmap=\"Greys\",\n",
    "        interpolation=\"nearest\",\n",
    "    )\n",
    "    plt.show()"
   ]
  },
  {
   "cell_type": "code",
   "execution_count": null,
   "id": "dab71007",
   "metadata": {},
   "outputs": [],
   "source": []
  }
 ],
 "metadata": {
  "jupytext": {
   "formats": "ipynb,auto:light"
  },
  "kernelspec": {
   "display_name": "Python [conda env:py37tf114]",
   "language": "python",
   "name": "conda-env-py37tf114-py"
  },
  "language_info": {
   "codemirror_mode": {
    "name": "ipython",
    "version": 3
   },
   "file_extension": ".py",
   "mimetype": "text/x-python",
   "name": "python",
   "nbconvert_exporter": "python",
   "pygments_lexer": "ipython3",
   "version": "3.7.11"
  }
 },
 "nbformat": 4,
 "nbformat_minor": 5
}
