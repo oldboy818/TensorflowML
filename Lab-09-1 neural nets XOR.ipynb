{
 "cells": [
  {
   "cell_type": "markdown",
   "id": "fb690ce8",
   "metadata": {},
   "source": [
    "# 모두를 위한 딥러닝 시즌2\n",
    "##  Lab-09-1 neural nets XOR"
   ]
  },
  {
   "cell_type": "code",
   "execution_count": 37,
   "id": "ef10a8ed",
   "metadata": {},
   "outputs": [
    {
     "name": "stdout",
     "output_type": "stream",
     "text": [
      "1.14.0\n"
     ]
    }
   ],
   "source": [
    "import numpy as np\n",
    "import matplotlib.pyplot as plt\n",
    "import tensorflow as tf\n",
    "import tensorflow.contrib.eager as tfe\n",
    "\n",
    "tf.compat.v1.enable_eager_execution()\n",
    "tf.compat.v1.set_random_seed(777)  # for reproducibility\n",
    "\n",
    "print(tf.__version__)"
   ]
  },
  {
   "cell_type": "markdown",
   "id": "7bc89ab4",
   "metadata": {},
   "source": [
    "학습에 사용될 데이터를 선언합니다."
   ]
  },
  {
   "cell_type": "code",
   "execution_count": 38,
   "id": "8ef93280",
   "metadata": {},
   "outputs": [
    {
     "data": {
      "image/png": "[encoded data removed]",
      "text/plain": [
       "<Figure size 432x288 with 1 Axes>"
      ]
     },
     "metadata": {
      "needs_background": "light"
     },
     "output_type": "display_data"
    }
   ],
   "source": [
    "x_data = [[0, 0],\n",
    "          [0, 1],\n",
    "          [1, 0],\n",
    "          [1, 1]]\n",
    "y_data = [[0],\n",
    "          [1],\n",
    "          [1],\n",
    "          [0]]\n",
    "\n",
    "plt.scatter(x_data[0][0],x_data[0][1], c='red' , marker='^')\n",
    "plt.scatter(x_data[3][0],x_data[3][1], c='red' , marker='^')\n",
    "plt.scatter(x_data[1][0],x_data[1][1], c='blue' , marker='^')\n",
    "plt.scatter(x_data[2][0],x_data[2][1], c='blue' , marker='^')\n",
    "\n",
    "plt.xlabel(\"x1\")\n",
    "plt.ylabel(\"x2\")\n",
    "plt.show()"
   ]
  },
  {
   "cell_type": "markdown",
   "id": "84fa6c67",
   "metadata": {},
   "source": [
    "Tensorflow의 data API를 이용해 학습할 데이터 x_data, y_data를 같은 형태로 맞춘다."
   ]
  },
  {
   "cell_type": "code",
   "execution_count": 39,
   "id": "a319fd2c",
   "metadata": {},
   "outputs": [],
   "source": [
    "dataset = tf.data.Dataset.from_tensor_slices((x_data, y_data)).batch(len(x_data))\n",
    "\n",
    "def preprocess_data(features, labels):\n",
    "    features = tf.cast(features, tf.float32)\n",
    "    labels = tf.cast(labels, tf.float32)\n",
    "    return features, labels"
   ]
  },
  {
   "cell_type": "markdown",
   "id": "34d9ec7c",
   "metadata": {},
   "source": [
    "Weight와 bias를 선언하고 tf.random.normal을 이용해 임의의 값을 넣어준다.\n",
    "또한, Weight의 shape는 x_data의 shape [4,2]에 맞춘다."
   ]
  },
  {
   "cell_type": "code",
   "execution_count": 40,
   "id": "77c080c1",
   "metadata": {},
   "outputs": [
    {
     "name": "stdout",
     "output_type": "stream",
     "text": [
      "W = [[0.7706481 ]\n",
      " [0.37335402]], B = [-1.3080608]\n"
     ]
    }
   ],
   "source": [
    "W = tf.Variable(tf.random.normal([2,1]), name='weight')\n",
    "b = tf.Variable(tf.random.normal([1]), name='bias')\n",
    "\n",
    "print(\"W = {}, B = {}\".format(W.numpy(), b.numpy()))"
   ]
  },
  {
   "cell_type": "markdown",
   "id": "4b0fe3ec",
   "metadata": {},
   "source": [
    "sigmoid 함수를 이용해 hypothesis를 정의해준다.\n",
    "\n",
    "$$\n",
    "z= Wx + b$$\n",
    "$$\n",
    "sigmoid(z)=\\frac{1}{1+e^{-z}}$$"
   ]
  },
  {
   "cell_type": "code",
   "execution_count": 41,
   "id": "741a177f",
   "metadata": {},
   "outputs": [],
   "source": [
    "def logistic_regression(features):\n",
    "    \n",
    "    hypothesis  = tf.sigmoid(tf.matmul(features, W) + b)\n",
    "    \n",
    "    return hypothesis"
   ]
  },
  {
   "cell_type": "markdown",
   "id": "403d7fee",
   "metadata": {},
   "source": [
    "cost 함수를 정의합니다. cross-entry function을 이용한 cost 함수"
   ]
  },
  {
   "cell_type": "markdown",
   "id": "f8248c31",
   "metadata": {},
   "source": [
    "$$\n",
    "cost(h(x),y) = -y log(h(x)) - (1 - y) log(1 - h(x))$$"
   ]
  },
  {
   "cell_type": "code",
   "execution_count": 42,
   "id": "7add44b4",
   "metadata": {},
   "outputs": [],
   "source": [
    "def loss_fn(hypothesis, features, labels):\n",
    "    \n",
    "    cost = -tf.reduce_mean(labels * tf.log(logistic_regression(features)) + (1 - labels) * tf.log(1 - hypothesis))\n",
    "    \n",
    "    return cost\n",
    "\n",
    "optimizer = tf.train.GradientDescentOptimizer(learning_rate=0.01)"
   ]
  },
  {
   "cell_type": "markdown",
   "id": "cf0221d4",
   "metadata": {},
   "source": [
    "sigmoid 함수의 결과값을 0.5를 기준으로 0과 1의 값을 리턴합니다."
   ]
  },
  {
   "cell_type": "code",
   "execution_count": 43,
   "id": "c7c2621f",
   "metadata": {},
   "outputs": [],
   "source": [
    "def accuracy_fn(hypothesis, labels):\n",
    "    predicted = tf.cast(hypothesis > 0.5, dtype=tf.float32)\n",
    "    accuracy = tf.reduce_mean(tf.cast(tf.equal(predicted, labels), dtype=tf.float32))\n",
    "    return accuracy"
   ]
  },
  {
   "cell_type": "markdown",
   "id": "690fe09a",
   "metadata": {},
   "source": [
    "Gradient descent"
   ]
  },
  {
   "cell_type": "code",
   "execution_count": 44,
   "id": "e037af10",
   "metadata": {},
   "outputs": [],
   "source": [
    "def grad(hypothesis, features, labels):\n",
    "    \n",
    "    with tf.GradientTape() as tape:\n",
    "        loss_value = loss_fn(logistic_regression(features),features,labels)\n",
    "        \n",
    "    return tape.gradient(loss_value, [W,b])"
   ]
  },
  {
   "cell_type": "markdown",
   "id": "8a8833b6",
   "metadata": {},
   "source": [
    "학습"
   ]
  },
  {
   "cell_type": "code",
   "execution_count": 56,
   "id": "4c95d51e",
   "metadata": {},
   "outputs": [
    {
     "name": "stdout",
     "output_type": "stream",
     "text": [
      "Iter: 0, Loss: 0.6951\n",
      "Iter: 100, Loss: 0.6949\n",
      "Iter: 200, Loss: 0.6948\n",
      "Iter: 300, Loss: 0.6947\n",
      "Iter: 400, Loss: 0.6946\n",
      "Iter: 500, Loss: 0.6945\n",
      "Iter: 600, Loss: 0.6944\n",
      "Iter: 700, Loss: 0.6943\n",
      "Iter: 800, Loss: 0.6942\n",
      "Iter: 900, Loss: 0.6941\n",
      "Iter: 1000, Loss: 0.6940\n",
      "W = [[0.12331725]\n",
      " [0.1056624 ]], B = [-0.13581564]\n",
      "Testset Accuracy: 0.2500\n"
     ]
    }
   ],
   "source": [
    "EPOCHS = 1001\n",
    "\n",
    "for step in range(EPOCHS):\n",
    "    for features, labels  in tfe.Iterator(dataset):\n",
    "        features, labels = preprocess_data(features, labels)\n",
    "        grads = grad(logistic_regression(features), features, labels)\n",
    "        optimizer.apply_gradients(grads_and_vars=zip(grads,[W,b]))\n",
    "        if step % 100 == 0:\n",
    "            print(\"Iter: {}, Loss: {:.4f}\".format(step, loss_fn(logistic_regression(features),features,labels)))\n",
    "            \n",
    "            \n",
    "print(\"W = {}, B = {}\".format(W.numpy(), b.numpy()))\n",
    "x_data, y_data = preprocess_data(x_data, y_data)\n",
    "test_acc = accuracy_fn(logistic_regression(x_data),y_data)\n",
    "print(\"Testset Accuracy: {:.4f}\".format(test_acc))\n"
   ]
  },
  {
   "cell_type": "code",
   "execution_count": null,
   "id": "3e53b66a",
   "metadata": {},
   "outputs": [],
   "source": []
  },
  {
   "cell_type": "code",
   "execution_count": null,
   "id": "79545e70",
   "metadata": {},
   "outputs": [],
   "source": []
  }
 ],
 "metadata": {
  "kernelspec": {
   "display_name": "Python [conda env:py37tf114]",
   "language": "python",
   "name": "conda-env-py37tf114-py"
  },
  "language_info": {
   "codemirror_mode": {
    "name": "ipython",
    "version": 3
   },
   "file_extension": ".py",
   "mimetype": "text/x-python",
   "name": "python",
   "nbconvert_exporter": "python",
   "pygments_lexer": "ipython3",
   "version": "3.7.11"
  }
 },
 "nbformat": 4,
 "nbformat_minor": 5
}
