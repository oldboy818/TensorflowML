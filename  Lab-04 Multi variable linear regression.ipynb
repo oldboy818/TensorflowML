{
 "cells": [
  {
   "cell_type": "markdown",
   "id": "9995196f",
   "metadata": {},
   "source": [
    "# 모두를 위한 딥러닝 시즌2\n",
    "##  Lab-04 Multi variable linear regression"
   ]
  },
  {
   "cell_type": "code",
   "execution_count": 1,
   "id": "b679aca6",
   "metadata": {},
   "outputs": [],
   "source": [
    "import tensorflow as tf\n",
    "import numpy as np"
   ]
  },
  {
   "cell_type": "markdown",
   "id": "b76255b6",
   "metadata": {},
   "source": [
    "### Multi variable"
   ]
  },
  {
   "cell_type": "code",
   "execution_count": 2,
   "id": "a448a480",
   "metadata": {
    "lines_to_next_cell": 0
   },
   "outputs": [
    {
     "name": "stdout",
     "output_type": "stream",
     "text": [
      "    0 |      27.1698\n",
      "   50 |       6.5210\n",
      "  100 |       6.2814\n",
      "  150 |       6.2683\n",
      "  200 |       6.2577\n",
      "  250 |       6.2471\n",
      "  300 |       6.2366\n",
      "  350 |       6.2261\n",
      "  400 |       6.2156\n",
      "  450 |       6.2052\n",
      "  500 |       6.1947\n",
      "  550 |       6.1843\n",
      "  600 |       6.1740\n",
      "  650 |       6.1636\n",
      "  700 |       6.1532\n",
      "  750 |       6.1429\n",
      "  800 |       6.1326\n",
      "  850 |       6.1224\n",
      "  900 |       6.1122\n",
      "  950 |       6.1021\n",
      " 1000 |       6.0920\n"
     ]
    }
   ],
   "source": [
    "# data and label\n",
    "x1 = [73, 93, 89, 96, 73]\n",
    "x2 = [80, 88, 91, 98, 66]\n",
    "x3 = [75, 93, 90, 100, 70]\n",
    "Y  = [152, 185, 180, 196, 142]\n",
    "\n",
    "W1 = tf.Variable(tf.random.normal([1]))\n",
    "W2 = tf.Variable(tf.random.normal([1]))\n",
    "W3 = tf.Variable(tf.random.normal([1]))\n",
    "b  = tf.Variable(tf.random.normal([1]))\n",
    "\n",
    "learning_rate = 0.000001\n",
    "\n",
    "# Gradient descent\n",
    "for i in range(1000+1):\n",
    "    \n",
    "    # tf.GradientTape() tor record the gradient of the cost func\n",
    "    with tf.GradientTape() as tape:\n",
    "        hypothesis = W1*x1 + W2*x2 + W3*x3 + b\n",
    "        cost = tf.reduce_mean(tf.square(hypothesis - Y))\n",
    "    \n",
    "    # calculates the gradients of the cost\n",
    "    W1_grad, W2_grad, W3_grad, b_grad = tape.gradient(cost, [W1, W2, W3, b])\n",
    "    \n",
    "    # update w1, w2, w3 and b\n",
    "    W1.assign_sub(learning_rate * W1_grad)\n",
    "    W2.assign_sub(learning_rate * W2_grad)\n",
    "    W3.assign_sub(learning_rate * W3_grad)\n",
    "    b.assign_sub(learning_rate * b_grad)\n",
    "\n",
    "    if i % 50 == 0:\n",
    "        print(\"{:5} | {:12.4f}\".format(i, cost.numpy()))"
   ]
  },
  {
   "cell_type": "markdown",
   "id": "594f91b7",
   "metadata": {
    "lines_to_next_cell": 2
   },
   "source": [
    "### Multi Variable With Matrix"
   ]
  },
  {
   "cell_type": "code",
   "execution_count": 3,
   "id": "623f5be6",
   "metadata": {},
   "outputs": [
    {
     "name": "stdout",
     "output_type": "stream",
     "text": [
      "    0 |    4551.6216\n",
      "  100 |       4.3081\n",
      "  200 |       3.7414\n",
      "  300 |       3.7331\n",
      "  400 |       3.7250\n",
      "  500 |       3.7170\n",
      "  600 |       3.7089\n",
      "  700 |       3.7010\n",
      "  800 |       3.6930\n",
      "  900 |       3.6851\n",
      " 1000 |       3.6772\n",
      " 1100 |       3.6694\n",
      " 1200 |       3.6617\n",
      " 1300 |       3.6540\n",
      " 1400 |       3.6463\n",
      " 1500 |       3.6386\n",
      " 1600 |       3.6310\n",
      " 1700 |       3.6234\n",
      " 1800 |       3.6159\n",
      " 1900 |       3.6084\n",
      " 2000 |       3.6010\n"
     ]
    }
   ],
   "source": [
    "# Data by matrix\n",
    "data = np.array([\n",
    "    # x1, x2, x3, y\n",
    "    [ 72, 80, 75, 152],\n",
    "    [ 93, 88, 93, 185],\n",
    "    [ 90, 91, 90, 180],\n",
    "    [ 96, 98, 100, 196],\n",
    "    [ 73, 66, 70, 142]\n",
    "], dtype=np.float32)\n",
    "\n",
    "# Data slice\n",
    "X = data[:,:-1]\n",
    "Y = data[:,[-1]]\n",
    "\n",
    "# W,b inintialize\n",
    "W = tf.Variable(tf.random.normal([3,1])) # W의 row는 X의 column 수와 같다.\n",
    "b = tf.Variable(tf.random.normal([1]))   # Y는 5*1이니, 그에 맞게 W, b의 사이즈를 결정.\n",
    "\n",
    "# hypothesis, prediction function\n",
    "def predict(X):\n",
    "    return tf.matmul(X,W) + b\n",
    "\n",
    "learning_rate = 0.000001\n",
    "\n",
    "n_epochs = 2000\n",
    "for i in range(n_epochs+1):\n",
    "    # record the gradient of the cost func\n",
    "    with tf.GradientTape() as tape:\n",
    "        cost = tf.reduce_mean((tf.square(predict(X)-Y)))\n",
    "    \n",
    "    # calculates the gradients of the cost\n",
    "    W_grad, b_grad = tape.gradient(cost, [W, b])\n",
    "    \n",
    "    # update W and b\n",
    "    W.assign_sub(learning_rate * W_grad)\n",
    "    b.assign_sub(learning_rate * b_grad)\n",
    "\n",
    "    if i % 100 == 0:\n",
    "        print(\"{:5} | {:12.4f}\".format(i, cost.numpy()))"
   ]
  },
  {
   "cell_type": "markdown",
   "id": "77c4e422",
   "metadata": {},
   "source": [
    "Multi Variable 연산에서 Matrix를 사용에 따른 차이는 Weight, hypothesis, parameters update에 있어 간단한 한 줄로 정리가 가능하다."
   ]
  },
  {
   "cell_type": "code",
   "execution_count": null,
   "id": "f49de863",
   "metadata": {},
   "outputs": [],
   "source": []
  }
 ],
 "metadata": {
  "jupytext": {
   "encoding": "# -*- coding: utf-8 -*-",
   "formats": "ipynb,py:light"
  },
  "kernelspec": {
   "display_name": "Python 3 (ipykernel)",
   "language": "python",
   "name": "python3"
  },
  "language_info": {
   "codemirror_mode": {
    "name": "ipython",
    "version": 3
   },
   "file_extension": ".py",
   "mimetype": "text/x-python",
   "name": "python",
   "nbconvert_exporter": "python",
   "pygments_lexer": "ipython3",
   "version": "3.9.7"
  }
 },
 "nbformat": 4,
 "nbformat_minor": 5
}
