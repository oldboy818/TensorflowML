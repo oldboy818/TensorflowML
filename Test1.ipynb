{
 "cells": [
  {
   "cell_type": "markdown",
   "id": "a4faa8f4",
   "metadata": {},
   "source": [
    "# TEST 1"
   ]
  },
  {
   "cell_type": "markdown",
   "id": "28212e03",
   "metadata": {},
   "source": [
    "## Test 1-1"
   ]
  },
  {
   "cell_type": "code",
   "execution_count": null,
   "id": "f080e60c",
   "metadata": {},
   "outputs": [],
   "source": []
  }
 ],
 "metadata": {
  "jupytext": {
   "formats": "ipynb,auto:light"
  },
  "kernelspec": {
   "display_name": "Python 3 (ipykernel)",
   "language": "python",
   "name": "python3"
  },
  "language_info": {
   "codemirror_mode": {
    "name": "ipython",
    "version": 3
   },
   "file_extension": ".py",
   "mimetype": "text/x-python",
   "name": "python",
   "nbconvert_exporter": "python",
   "pygments_lexer": "ipython3",
   "version": "3.9.7"
  }
 },
 "nbformat": 4,
 "nbformat_minor": 5
}
