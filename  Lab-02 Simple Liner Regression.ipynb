{
 "cells": [
  {
   "cell_type": "markdown",
   "id": "38fe582e",
   "metadata": {},
   "source": [
    "# 모두를 위한 딥러닝 시즌2\n",
    "## Lab02_Simple Regression LAB"
   ]
  },
  {
   "cell_type": "code",
   "execution_count": 1,
   "id": "6312762a",
   "metadata": {},
   "outputs": [],
   "source": [
    "import tensorflow as tf\n",
    "import numpy as np\n",
    "import matplotlib.pyplot as plt"
   ]
  },
  {
   "cell_type": "markdown",
   "id": "fe3f9ed0",
   "metadata": {},
   "source": [
    "### H(x) = Wx+b"
   ]
  },
  {
   "cell_type": "code",
   "execution_count": 2,
   "id": "81024b0b",
   "metadata": {},
   "outputs": [],
   "source": [
    "# Data\n",
    "x_data = [1,2,3,4,5]\n",
    "y_data = [1,2,3,4,5]"
   ]
  },
  {
   "cell_type": "code",
   "execution_count": 3,
   "id": "f5519dcb",
   "metadata": {},
   "outputs": [],
   "source": [
    "# W, b inintialize\n",
    "W = tf.Variable(2.0)\n",
    "b = tf.Variable(0.5)"
   ]
  },
  {
   "cell_type": "code",
   "execution_count": 4,
   "id": "004f831e",
   "metadata": {},
   "outputs": [],
   "source": [
    "#hypothesis = W * x + b\n",
    "hypothesis = W * x_data + b"
   ]
  },
  {
   "cell_type": "markdown",
   "id": "ed13b58a",
   "metadata": {},
   "source": [
    "### $cost(W,b) = \\frac{1}{m}*\\sum_{i=1}^{m}((H(x^{i})-y^{i}))^2$"
   ]
  },
  {
   "cell_type": "code",
   "execution_count": 5,
   "id": "dc66a9d9",
   "metadata": {},
   "outputs": [],
   "source": [
    "# cost는 error 제곱의 평균값\n",
    "cost = tf.reduce_mean(tf.square(hypothesis - y_data))"
   ]
  },
  {
   "cell_type": "markdown",
   "id": "61fce3f3",
   "metadata": {},
   "source": [
    "* tf.reduce_mean()\\\n",
    "reduce 는 차원(Rank)가 줄어든다는 의미를 갖는다.\n",
    "예로, v = [1,2,3,4]의 Rank는 $R^4$지만, tf.reduce_mean(v)=2.5로 $R^0$이다.\n",
    "* square()\\\n",
    "제곱승을 해준다."
   ]
  },
  {
   "cell_type": "code",
   "execution_count": 6,
   "id": "67c330ea",
   "metadata": {},
   "outputs": [
    {
     "data": {
      "image/png": "[encoded data removed]",
      "text/plain": [
       "<Figure size 432x288 with 1 Axes>"
      ]
     },
     "metadata": {
      "needs_background": "light"
     },
     "output_type": "display_data"
    }
   ],
   "source": [
    "# 실제 데이터와 초기값으로 주어진 Hyphothesis\n",
    "hypothesis.numpy()\n",
    "plt.plot(x_data, hypothesis.numpy(), 'r-')\n",
    "plt.plot(x_data, y_data, 'o')\n",
    "plt.ylim(0, 8)\n",
    "plt.show()"
   ]
  },
  {
   "cell_type": "markdown",
   "id": "06e32c5d",
   "metadata": {},
   "source": [
    "## Gradient descent\n",
    "\n",
    "경사하강법은 error 제곱의 평균값인 cost를 minimize하는 여러 방법 중 하나이다.\\\n",
    "즉, $minimize_{W,b} cost(W,b)$"
   ]
  },
  {
   "cell_type": "code",
   "execution_count": 7,
   "id": "14fc61d6",
   "metadata": {},
   "outputs": [],
   "source": [
    "# Learning_rate initialize\n",
    "learning_rate = 0.01"
   ]
  },
  {
   "cell_type": "code",
   "execution_count": 8,
   "id": "320d7069",
   "metadata": {},
   "outputs": [
    {
     "name": "stdout",
     "output_type": "stream",
     "text": [
      "    0|    1.7500|      0.43| 14.250000\n",
      "   10|    0.9990|    0.2146|  0.071626\n",
      "   20|    0.9502|    0.1939|  0.007110\n",
      "   30|    0.9486|    0.1866|  0.006374\n",
      "   40|    0.9501|    0.1803|  0.005955\n",
      "   50|    0.9517|    0.1743|  0.005565\n",
      "   60|    0.9533|    0.1685|  0.005201\n",
      "   70|    0.9549|    0.1629|  0.004860\n",
      "   80|    0.9564|    0.1574|  0.004542\n",
      "   90|    0.9578|    0.1522|  0.004245\n"
     ]
    }
   ],
   "source": [
    "for i in range(100):\n",
    "\n",
    "# Gradient descent\n",
    "    with tf.GradientTape() as tape:\n",
    "        hypothesis = W * x_data + b\n",
    "        cost = tf.reduce_mean(tf.square(hypothesis - y_data))\n",
    "    \n",
    "    W_grad, b_grad = tape.gradient(cost, [W,b])\n",
    "\n",
    "    W.assign_sub(learning_rate*W_grad)\n",
    "    b.assign_sub(learning_rate*b_grad)\n",
    "    \n",
    "    if i % 10 ==0: # 10번 반복될 때마다 값을 출력\n",
    "        print(\"{:5}|{:10.4f}|{:10.4}|{:10.6f}\".format(i, W.numpy(), b.numpy(), cost))"
   ]
  },
  {
   "cell_type": "markdown",
   "id": "37481ec2",
   "metadata": {},
   "source": [
    "* GradientTape()\\\n",
    "    with 구문과 사용되는데, with 안 변수의 정보를 tape에 저장한다.<p>\n",
    "* tape.gradient(함수, 변수)\\\n",
    "    tape의 gradient method로 함수의 변수에 대한 경사도값(=미분값)을 구한다.\\\n",
    "그 값은 순서대로 반환한다.<p>\n",
    "* A.assign_sub(B)\\\n",
    "    A = A-b\\\n",
    "    A -= B"
   ]
  },
  {
   "cell_type": "code",
   "execution_count": 9,
   "id": "5c478b8b",
   "metadata": {},
   "outputs": [
    {
     "data": {
      "text/plain": [
       "(0.0, 8.0)"
      ]
     },
     "execution_count": 9,
     "metadata": {},
     "output_type": "execute_result"
    },
    {
     "data": {
      "image/png": "[encoded data removed]",
      "text/plain": [
       "<Figure size 432x288 with 1 Axes>"
      ]
     },
     "metadata": {
      "needs_background": "light"
     },
     "output_type": "display_data"
    }
   ],
   "source": [
    "# Gradient descent로 minimize한 결과.\n",
    "plt.plot(x_data, y_data, 'o')\n",
    "plt.plot(x_data, hypothesis.numpy(), 'r-')\n",
    "plt.ylim(0, 8)"
   ]
  },
  {
   "cell_type": "code",
   "execution_count": null,
   "id": "b2a62d3c",
   "metadata": {},
   "outputs": [],
   "source": []
  }
 ],
 "metadata": {
  "jupytext": {
   "encoding": "# -*- coding: utf-8 -*-",
   "formats": "ipynb,py:light"
  },
  "kernelspec": {
   "display_name": "Python 3 (ipykernel)",
   "language": "python",
   "name": "python3"
  },
  "language_info": {
   "codemirror_mode": {
    "name": "ipython",
    "version": 3
   },
   "file_extension": ".py",
   "mimetype": "text/x-python",
   "name": "python",
   "nbconvert_exporter": "python",
   "pygments_lexer": "ipython3",
   "version": "3.9.7"
  }
 },
 "nbformat": 4,
 "nbformat_minor": 5
}
