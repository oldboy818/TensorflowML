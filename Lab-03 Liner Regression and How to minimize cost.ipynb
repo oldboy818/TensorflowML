{
 "cells": [
  {
   "cell_type": "markdown",
   "id": "997fb4fe",
   "metadata": {},
   "source": [
    "# 모두를 위한 딥러닝 시즌2\n",
    "## Lab-03 Liner Regression and How to minimize cost"
   ]
  },
  {
   "cell_type": "markdown",
   "id": "6d56855e",
   "metadata": {},
   "source": [
    "$$\n",
    "Hypothesis : W(x) = Wx\\\\\n",
    "    cost   : cost(W) = \\frac{1}{m}\\sum_{i=1}^{m}(Wx_i-y_i)^2\n",
    "$$"
   ]
  },
  {
   "cell_type": "markdown",
   "id": "08606122",
   "metadata": {},
   "source": [
    "### Cost function in pure python"
   ]
  },
  {
   "cell_type": "code",
   "execution_count": 6,
   "id": "5724cb03",
   "metadata": {},
   "outputs": [
    {
     "name": "stdout",
     "output_type": "stream",
     "text": [
      "-3.000 |   74.66667\n",
      "-2.429 |   54.85714\n",
      "-1.857 |   38.09524\n",
      "-1.286 |   24.38095\n",
      "-0.714 |   13.71429\n",
      "-0.143 |    6.09524\n",
      " 0.429 |    1.52381\n",
      " 1.000 |    0.00000\n",
      " 1.571 |    1.52381\n",
      " 2.143 |    6.09524\n",
      " 2.714 |   13.71429\n",
      " 3.286 |   24.38095\n",
      " 3.857 |   38.09524\n",
      " 4.429 |   54.85714\n",
      " 5.000 |   74.66667\n"
     ]
    }
   ],
   "source": [
    "import tensorflow as tf\n",
    "import numpy as np\n",
    "import matplotlib.pyplot as plt\n",
    "\n",
    "X = np.array([1,2,3])\n",
    "Y = np.array([1,2,3])\n",
    "\n",
    "def cost_func(W,X,Y):\n",
    "    c = 0\n",
    "    for i in range(len(X)):\n",
    "        c += (W * X[i] - Y[i]) ** 2 # error를 누적합\n",
    "    return c / len(X) # error 누적합의 평균값을 리턴\n",
    "\n",
    "for feed_W in np.linspace(-3,5,num=15): # linspace: -3과 5사이 구간을 15개 구간으로 나누어 feed_W에 대입\n",
    "    curr_cost = cost_func(feed_W, X, Y) # feed_W 값에 따라 cost 값을 curr_cost에 업데이트.\n",
    "    print(\"{:6.3f} | {:10.5f}\".format(feed_W, curr_cost))"
   ]
  },
  {
   "cell_type": "markdown",
   "id": "a7bffcba",
   "metadata": {},
   "source": [
    "### Cost function in Tensorflow"
   ]
  },
  {
   "cell_type": "code",
   "execution_count": 7,
   "id": "da92bd90",
   "metadata": {},
   "outputs": [
    {
     "name": "stdout",
     "output_type": "stream",
     "text": [
      "-3.000 |   74.66667\n",
      "-2.429 |   54.85714\n",
      "-1.857 |   38.09524\n",
      "-1.286 |   24.38095\n",
      "-0.714 |   13.71429\n",
      "-0.143 |    6.09524\n",
      " 0.429 |    1.52381\n",
      " 1.000 |    0.00000\n",
      " 1.571 |    1.52381\n",
      " 2.143 |    6.09524\n",
      " 2.714 |   13.71429\n",
      " 3.286 |   24.38095\n",
      " 3.857 |   38.09524\n",
      " 4.429 |   54.85714\n",
      " 5.000 |   74.66667\n"
     ]
    }
   ],
   "source": [
    "X = np.array([1,2,3])\n",
    "Y = np.array([1,2,3])\n",
    "\n",
    "def cost_func(W,X,Y):\n",
    "    hypothesis = X * W\n",
    "    return tf.reduce_mean(tf.square(hypothesis - Y))\n",
    "\n",
    "W_values = np.linspace(-3, 5, num=15) # 위와 같이 구간을 나누어 준다.\n",
    "cost_values = []\n",
    "\n",
    "for feed_W in W_values:\n",
    "    curr_cost = cost_func(feed_W, X, Y) # feed_W 값에 따라 cost 값을 curr_cost에 업데이트.\n",
    "    cost_values.append(curr_cost)\n",
    "    print(\"{:6.3f} | {:10.5f}\".format(feed_W, curr_cost))"
   ]
  },
  {
   "cell_type": "markdown",
   "id": "d12e8651",
   "metadata": {},
   "source": [
    "* append(x)\\\n",
    "append는 덧붙인다는 뜻으로 괄호( ) 안에 값을 입력하면 새로운 요소를 array 맨 끝에 객체로 추가한다. 요소를 추가할 때는 객체로 추가하게 되는데, 입력한 값이 리스트와 같은 반복 가능한 iterable 자료형이더라도 객체로 저장한다.\\\n",
    "<p>\n",
    "* np.array([])\\\n",
    "    넘파이의 array 함수에 리스트를 넣으면 ndarray 클래스 객체 즉, 배열로 변환해 준다. 리스트와 비슷해 보이지만 type 명령으로 자료형을 살펴보면 ndarray임을 알 수 있다. 만들어진 ndarray 객체의 표현식(representation)을 보면 바깥쪽에 array()란 것이 붙어 있을 뿐 리스트와 동일한 구조처럼 보인다. 그러나 배열 객체와 리스트 객체는 많은 차이가 있다. 우선 리스트 클래스 객체는 각각의 원소가 다른 자료형이 될 수 있다. 그러나 배열 객체 객체는 C언어의 배열처럼 연속적인 메모리 배치를 가지기 때문에 모든 원소가 같은 자료형이어야 한다. 이러한 제약사항이 있는 대신 원소에 대한 접근과 반복문 실행이 빨라진다."
   ]
  },
  {
   "cell_type": "code",
   "execution_count": 8,
   "id": "eb592b35",
   "metadata": {},
   "outputs": [
    {
     "data": {
      "image/png": "[encoded data removed]",
      "text/plain": [
       "<Figure size 432x288 with 1 Axes>"
      ]
     },
     "metadata": {
      "needs_background": "light"
     },
     "output_type": "display_data"
    }
   ],
   "source": [
    "import matplotlib.pyplot as plt\n",
    "\n",
    "plt.plot(W_values, cost_values, \"b\")\n",
    "plt.ylabel('Cost(W)')\n",
    "plt.xlabel('W')\n",
    "plt.show()"
   ]
  },
  {
   "cell_type": "markdown",
   "id": "b0c8ff5e",
   "metadata": {},
   "source": [
    "Tensorflow를 이용한 cost를 구하는 과정은 python 이용한 것과 동일하다.\\\n",
    "하지만, Tensorflow에서 제공하는 함수(tf.reduce_mean, tf.squre)을 이용해 더 편리하게 구성할 수 있다."
   ]
  },
  {
   "cell_type": "markdown",
   "id": "1bedfb1a",
   "metadata": {},
   "source": [
    "### Gradient descent\n",
    "$$\n",
    "cost(W) = \\frac{1}{m}\\sum_{i=1}^{m}(Wx_i - y_i)^2\\\\\n",
    "W := W - \\alpha\\frac{1}{m}\\sum_{i=1}^{m}(Wx_i - y_i)x_i\n",
    "$$"
   ]
  },
  {
   "cell_type": "markdown",
   "id": "bbf040aa",
   "metadata": {},
   "source": [
    " gradient에 해당하는 $\\frac{1}{m}\\sum_{i=1}^{m}(Wx_i - y_i)x_i$에 learning rate $\\alpha$를 곱한값을 빼준다. 그 값을 새로운 Weight값에 업데이트해준다."
   ]
  },
  {
   "cell_type": "code",
   "execution_count": 12,
   "id": "49cfb305",
   "metadata": {},
   "outputs": [
    {
     "name": "stdout",
     "output_type": "stream",
     "text": [
      "    0 | 11716.3086 |  48.767971\n",
      "   10 |  4504.9126 |  30.619968\n",
      "   20 |  1732.1364 |  19.366755\n",
      "   30 |   666.0052 |  12.388859\n",
      "   40 |   256.0785 |   8.062004\n",
      "   50 |    98.4620 |   5.379007\n",
      "   60 |    37.8586 |   3.715335\n",
      "   70 |    14.5566 |   2.683725\n",
      "   80 |     5.5970 |   2.044044\n",
      "   90 |     2.1520 |   1.647391\n",
      "  100 |     0.8275 |   1.401434\n",
      "  110 |     0.3182 |   1.248922\n",
      "  120 |     0.1223 |   1.154351\n",
      "  130 |     0.0470 |   1.095710\n",
      "  140 |     0.0181 |   1.059348\n",
      "  150 |     0.0070 |   1.036801\n",
      "  160 |     0.0027 |   1.022819\n",
      "  170 |     0.0010 |   1.014150\n",
      "  180 |     0.0004 |   1.008774\n",
      "  190 |     0.0002 |   1.005441\n",
      "  200 |     0.0001 |   1.003374\n",
      "  210 |     0.0000 |   1.002092\n",
      "  220 |     0.0000 |   1.001297\n",
      "  230 |     0.0000 |   1.000804\n",
      "  240 |     0.0000 |   1.000499\n",
      "  250 |     0.0000 |   1.000309\n",
      "  260 |     0.0000 |   1.000192\n",
      "  270 |     0.0000 |   1.000119\n",
      "  280 |     0.0000 |   1.000074\n",
      "  290 |     0.0000 |   1.000046\n"
     ]
    }
   ],
   "source": [
    "tf.random.set_seed(0) # for reproducibility 다음에 이 부분의 코드를 구현할 때 동일하게 동작하도록\n",
    "\n",
    "x_data = [1,2,3,4]\n",
    "y_data = [1,2,3,4]\n",
    "\n",
    "W = tf.Variable(tf.random.normal([1], -100, 100)) # 정규분포를 따르는 random number를 할당.\n",
    "\n",
    "for step in range(300):\n",
    "    hypothesis = W * X\n",
    "    cost = tf.reduce_mean(tf.square(hypothesis - Y))\n",
    "    \n",
    "    # gradient descent\n",
    "    alpha = 0.01 # learning rate inintialize\n",
    "    gradient = tf.reduce_mean(tf.multiply(tf.multiply(W,X) - Y, X))\n",
    "    descent = W - tf.multiply(alpha, gradient)\n",
    "    W.assign(descent)\n",
    "    \n",
    "    if step % 10 ==0:\n",
    "        print('{:5} | {:10.4f} | {:10.6f}'.format(step, cost.numpy(), W.numpy()[0]))"
   ]
  },
  {
   "cell_type": "code",
   "execution_count": null,
   "id": "8cc645e7",
   "metadata": {},
   "outputs": [],
   "source": []
  }
 ],
 "metadata": {
  "jupytext": {
   "formats": "ipynb,auto:light"
  },
  "kernelspec": {
   "display_name": "Python 3 (ipykernel)",
   "language": "python",
   "name": "python3"
  },
  "language_info": {
   "codemirror_mode": {
    "name": "ipython",
    "version": 3
   },
   "file_extension": ".py",
   "mimetype": "text/x-python",
   "name": "python",
   "nbconvert_exporter": "python",
   "pygments_lexer": "ipython3",
   "version": "3.9.7"
  }
 },
 "nbformat": 4,
 "nbformat_minor": 5
}
