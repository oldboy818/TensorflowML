{
 "cells": [
  {
   "cell_type": "markdown",
   "id": "74264094",
   "metadata": {},
   "source": [
    "# 모두를 위한 딥러닝 시즌2\n",
    "##  Lab-06-1 Softmax Classifier"
   ]
  },
  {
   "cell_type": "markdown",
   "id": "446a3d77",
   "metadata": {},
   "source": [
    "### Sigmoid\n",
    "$$\n",
    "H_L(x) = WX일 때\\\\\n",
    "Z = H_L(X)이고\\ g(Z)이다.\\\\\n",
    "이때\\ g(Z)=\\frac{1}{1+e^{-z}} : Sigmoid func 혹은 Logistic func이라 한다.\\\\\n",
    "H_R(X) = g(H_L(X))이다.\n",
    "$$\n",
    "\n",
    "logistic classification 문제에서 두 가지 클래스를 Sigmoid func을 사용하면 해결할 수 있다.\\\n",
    "그럼 Multinomial classification의 경우는??\n",
    "\n",
    "$$\n",
    "\\begin{bmatrix}\n",
    "W_{A1} & W_{A2} & W_{A3} \\\\\n",
    "W_{B1} & W_{B2} & W_{B3} \\\\\n",
    "W_{C1} & W_{C2} & W_{C3}\n",
    "\\end{bmatrix}\n",
    "\\begin{bmatrix}\n",
    "{x_1} \\\\\n",
    "{x_2} \\\\\n",
    "{x_3}\n",
    "\\end{bmatrix}\n",
    "=\n",
    "\\begin{bmatrix}\n",
    "W_{A1}x_1+W_{A2}x_2+W_{A3}x_3 \\\\\n",
    "W_{B1}x_1+W_{B2}x_2+W_{B3}x_3 \\\\\n",
    "W_{C1}x_1+W_{C2}x_2+W_{C3}x_3\n",
    "\\end{bmatrix}\n",
    "=\n",
    "\\begin{bmatrix}\n",
    "\\bar{y_A} \\\\\n",
    "\\bar{y_B} \\\\\n",
    "\\bar{y_C}\n",
    "\\end{bmatrix}$$\n",
    "\n",
    "위와 같이 독립된 Classification이 행렬의 곱으로 구할 수 있다.\\\n",
    "이를 통해 출력되는 값은 0부터 1사이의 값이 아니므로 다시 어떤 함수에 입력하여 원하는 범위 0~1으로 출력되도록 해야한다.\\\n",
    "이때 사용되는 함수가 Softmax function이다.\\\n",
    "\n",
    "### Softmax function\n",
    "$$\n",
    "S(y_i)=\\frac{e^{y_i}}{\\sum_{j}e^{y_i}}$$\n",
    "\n",
    "**Softmax func은 Hypothesis가 되고**, 그 출력값은 0~1 범위 내의 값이고, 모든 출력값의 합은 1이다. 즉 각각을 확률로 볼 수 있다는 말이다.\n",
    "\n",
    "그렇다면 **Cost function**은 어떻게 될까?\n",
    "\n",
    "$$\n",
    "CROSS-ENTROPY: D(S, L) = -\\sum_{i}L_{i}log(S_i)\\\\\n",
    "이때, S는\\ Softmax func의\\ 출력값\\ S(y)=\\bar{y}이고\\ L은\\ 결과값\\ Y이다.$$\n",
    "\n",
    "softmax func을 hypothesis로 받아 구하는 cost functiond을 **Cross-entropy**라고 한다.\\\n",
    "\n",
    "왜 이 함수가 Cost func에 적합한지에 대해 알아보자.\n",
    "$$\n",
    "-\\sum_{i}L_{i}log(\\bar{y_i})=\\sum_{i}L_{i}(-log(\\bar{y_i}))$$\n",
    "마이너스가 안으로 들어가 log가 x축 대칭되었다. $\\bar{y_i}$가 0으로 가면 $\\infty$, 1로 가면 0이 출력된다.\n",
    "\n",
    "### Logistic cost VS cross entropy\n",
    "$$\n",
    "C:\\ (H(x),y)\\ =\\ ylog(H(x))-(1-y)log(1-H(x))\\\\\n",
    "VS\\\\\n",
    "D(S,L)\\ =\\ -\\sum_{i}L_{i}log(S_i)$$\n",
    "\n",
    "여러 개의 Training Set이 있을 때, cost func은 다음과 같다.\n",
    "$$\n",
    "Loss\\ =\\ \\frac{1}{N}\\sum_{i}D(S(Wx_{i}+b),\\ L_i)$$"
   ]
  },
  {
   "cell_type": "code",
   "execution_count": 1,
   "id": "7a2127cd",
   "metadata": {},
   "outputs": [],
   "source": [
    "import tensorflow as tf\n",
    "import numpy as np"
   ]
  },
  {
   "cell_type": "code",
   "execution_count": 2,
   "id": "fb0a60d0",
   "metadata": {},
   "outputs": [
    {
     "name": "stdout",
     "output_type": "stream",
     "text": [
      "(8, 4)\n",
      "(8, 3)\n"
     ]
    }
   ],
   "source": [
    "# 8*4 Matrix\n",
    "x_data = [[1, 2, 1, 1],\n",
    "          [2, 1, 3, 2],\n",
    "          [3, 1, 3, 4],\n",
    "          [4, 1, 5, 5],\n",
    "          [1, 7, 5, 5],\n",
    "          [1, 2, 5, 6],\n",
    "          [1, 6, 6, 6],\n",
    "          [1, 7, 7, 7]]\n",
    "\n",
    "# ONE-HOT ENCODING 8*3 Matrix\n",
    "# 결과값 Y = L_i\n",
    "y_data = [[0, 0, 1],\n",
    "          [0, 0, 1],\n",
    "          [0, 0, 1],\n",
    "          [0, 1, 0],\n",
    "          [0, 1, 0],\n",
    "          [0, 1, 0],\n",
    "          [1, 0, 0],\n",
    "          [1, 0, 0]]\n",
    "\n",
    "# convert into numpy and float format\n",
    "x_data = np.asarray(x_data, dtype=np.float32)\n",
    "y_data = np.asarray(y_data, dtype=np.float32)\n",
    "\n",
    "# num classes\n",
    "nb_classes = 3 # y_data의 column 크기가 3이므로\n",
    "\n",
    "print(x_data.shape)\n",
    "print(y_data.shape)"
   ]
  },
  {
   "cell_type": "code",
   "execution_count": 3,
   "id": "24e16820",
   "metadata": {},
   "outputs": [
    {
     "name": "stdout",
     "output_type": "stream",
     "text": [
      "<tf.Variable 'weight:0' shape=(4, 3) dtype=float32, numpy=\n",
      "array([[-0.6640497 ,  0.05012712,  0.01306419],\n",
      "       [ 0.6132794 ,  0.07739493, -0.721968  ],\n",
      "       [-0.29586887, -0.80026746,  0.2192767 ],\n",
      "       [-0.90093434,  0.27663442, -1.8074503 ]], dtype=float32)> <tf.Variable 'bias:0' shape=(3,) dtype=float32, numpy=array([-0.85426366, -0.509383  , -1.3708053 ], dtype=float32)>\n"
     ]
    }
   ],
   "source": [
    "# Weight 'W' and bias 'b'\n",
    "\n",
    "# W * x + b = y 행렬연산을 위해 Weight의 shape은 (4, 3)이어야 하고, bias는 (3, 0)\n",
    "W = tf.Variable(tf.random.normal([4, nb_classes]), name = 'weight')\n",
    "b = tf.Variable(tf.random.normal([nb_classes]), name = 'bias')\n",
    "\n",
    "variables = [W, b]\n",
    "\n",
    "print(W, b)"
   ]
  },
  {
   "cell_type": "code",
   "execution_count": 4,
   "id": "6a88ba9d",
   "metadata": {},
   "outputs": [
    {
     "name": "stdout",
     "output_type": "stream",
     "text": [
      "tf.Tensor(\n",
      "[[3.3437744e-01 6.4724773e-01 1.8374756e-02]\n",
      " [1.0566290e-01 8.4517622e-01 4.9160827e-02]\n",
      " [5.7689864e-03 9.9336904e-01 8.6193322e-04]\n",
      " [2.3940946e-03 9.9680918e-01 7.9677720e-04]\n",
      " [3.3766344e-01 6.6233164e-01 4.8880529e-06]\n",
      " [1.0657695e-02 9.8929286e-01 4.9439383e-05]\n",
      " [1.3207018e-01 8.6792493e-01 4.9133364e-06]\n",
      " [1.1711299e-01 8.8288629e-01 7.7502528e-07]], shape=(8, 3), dtype=float32)\n"
     ]
    }
   ],
   "source": [
    "# Softmax function = Hypothesis\n",
    "\n",
    "def hypothesis(X):\n",
    "    return tf.nn.softmax(tf.matmul(X,W) + b) # 행렬의 덧셈은 shape이 달라도 연산이 되는군.\n",
    "\n",
    "print(hypothesis(x_data))"
   ]
  },
  {
   "cell_type": "code",
   "execution_count": 5,
   "id": "47d38046",
   "metadata": {},
   "outputs": [
    {
     "name": "stdout",
     "output_type": "stream",
     "text": [
      "tf.Tensor(2.3325944, shape=(), dtype=float32)\n"
     ]
    }
   ],
   "source": [
    "# Cost function = Cross-Entropy\n",
    "\n",
    "def cost_func(X, Y):\n",
    "    S = hypothesis(X) # softmax func을 이용한 hypothesis\n",
    "    cost = -tf.reduce_sum(Y * tf.math.log(S), axis=1)\n",
    "    cost_mean = tf.reduce_mean(cost)\n",
    "    \n",
    "    return cost_mean\n",
    "\n",
    "print(cost_func(x_data, y_data))"
   ]
  },
  {
   "cell_type": "markdown",
   "id": "2bfd1e38",
   "metadata": {},
   "source": [
    "* tf.reduce_sum\\\n",
    "tensor의 dimension을 탐색하며 개체들의 총합을 계산\n"
   ]
  },
  {
   "cell_type": "code",
   "execution_count": 6,
   "id": "38434df9",
   "metadata": {},
   "outputs": [],
   "source": [
    "# Gradient descent : mininze Cost func to find opimizative W, b\n",
    "\n",
    "def grad_func(X,Y):\n",
    "    with tf.GradientTape() as tape:\n",
    "        cost = cost_func(X, Y)\n",
    "        grad = tape.gradient(cost, variables) # variables = [W, b]\n",
    "                                              # W와 b에 대한 기울기 값을 반환\n",
    "            \n",
    "        return grad"
   ]
  },
  {
   "cell_type": "code",
   "execution_count": 15,
   "id": "9800acd8",
   "metadata": {},
   "outputs": [
    {
     "name": "stdout",
     "output_type": "stream",
     "text": [
      "Loss at epoch 1: 0.126040\n",
      "Loss at epoch 1000: 0.122504\n",
      "Loss at epoch 2000: 0.119151\n",
      "Loss at epoch 3000: 0.115972\n",
      "Loss at epoch 4000: 0.112954\n",
      "Loss at epoch 5000: 0.110084\n",
      "Loss at epoch 6000: 0.107353\n",
      "Loss at epoch 7000: 0.104751\n",
      "Loss at epoch 8000: 0.102268\n",
      "Loss at epoch 9000: 0.099898\n",
      "Loss at epoch 10000: 0.097632\n",
      "Loss at epoch 11000: 0.095464\n",
      "Loss at epoch 12000: 0.093388\n",
      "Loss at epoch 13000: 0.091399\n",
      "Loss at epoch 14000: 0.089490\n",
      "Loss at epoch 15000: 0.087658\n",
      "Loss at epoch 16000: 0.085898\n",
      "Loss at epoch 17000: 0.084206\n",
      "Loss at epoch 18000: 0.082577\n",
      "Loss at epoch 19000: 0.081009\n",
      "Loss at epoch 20000: 0.079498\n"
     ]
    }
   ],
   "source": [
    "# Optimization and Launch graph\n",
    "\n",
    "def fit(X, Y, epochs = 20000, verbose = 1000):\n",
    "    \n",
    "    #경사하강법으로 손실 함수를 최소화하는 모델 파라미터를 찾기 위한 class\n",
    "    optimizer = tf.keras.optimizers.SGD(learning_rate = 0.01)\n",
    "    \n",
    "    for i in range(epochs):\n",
    "        optimizer.apply_gradients(zip(grad_func(X, Y), variables))\n",
    "        \n",
    "        if (i==0) | ((i+1)%verbose==0):\n",
    "            print('Loss at epoch %d: %f' %(i+1, cost_func(X, Y).numpy()))\n",
    "            \n",
    "fit(x_data, y_data)"
   ]
  },
  {
   "cell_type": "code",
   "execution_count": 19,
   "id": "53d0c109",
   "metadata": {},
   "outputs": [
    {
     "name": "stdout",
     "output_type": "stream",
     "text": [
      "tf.Tensor(\n",
      "[[1.3073000e-08 7.3678137e-05 9.9992633e-01]\n",
      " [4.4458878e-04 4.0083919e-02 9.5947146e-01]\n",
      " [8.1525106e-11 8.3376899e-02 9.1662306e-01]\n",
      " [2.5369360e-08 9.2465085e-01 7.5349137e-02]\n",
      " [1.3947636e-01 8.5468024e-01 5.8434065e-03]\n",
      " [7.3836222e-02 9.2616326e-01 5.1531981e-07]\n",
      " [8.4493428e-01 1.5506463e-01 1.1168767e-06]\n",
      " [9.7344661e-01 2.6553364e-02 3.5586734e-09]], shape=(8, 3), dtype=float32)\n",
      "tf.Tensor([2 2 2 1 1 1 0 0], shape=(8,), dtype=int64)\n",
      "tf.Tensor([2 2 2 1 1 1 0 0], shape=(8,), dtype=int64)\n"
     ]
    }
   ],
   "source": [
    "# Test\n",
    "\n",
    "a = hypothesis(x_data)\n",
    "print(a) #softmax 함수를 통과시킨 x_data\n",
    "\n",
    "#argmax 가장큰 값의index를 찾아줌\n",
    "\n",
    "print(tf.argmax(a,1)) #가설을 통한 예측값\n",
    "print(tf.argmax(y_data,1)) #실제 값"
   ]
  },
  {
   "cell_type": "code",
   "execution_count": null,
   "id": "0ec2c9f0",
   "metadata": {},
   "outputs": [],
   "source": []
  }
 ],
 "metadata": {
  "jupytext": {
   "encoding": "# -*- coding: utf-8 -*-",
   "formats": "ipynb,py:light"
  },
  "kernelspec": {
   "display_name": "Python 3 (ipykernel)",
   "language": "python",
   "name": "python3"
  },
  "language_info": {
   "codemirror_mode": {
    "name": "ipython",
    "version": 3
   },
   "file_extension": ".py",
   "mimetype": "text/x-python",
   "name": "python",
   "nbconvert_exporter": "python",
   "pygments_lexer": "ipython3",
   "version": "3.9.7"
  }
 },
 "nbformat": 4,
 "nbformat_minor": 5
}
