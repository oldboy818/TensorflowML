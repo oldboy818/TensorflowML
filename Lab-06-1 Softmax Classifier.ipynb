{
 "cells": [
  {
   "cell_type": "markdown",
   "id": "d241554a",
   "metadata": {},
   "source": [
    "# 모두를 위한 딥러닝 시즌2\n",
    "##  Lab-06-1 Softmax Classifier"
   ]
  },
  {
   "cell_type": "code",
   "execution_count": 1,
   "id": "58987963",
   "metadata": {},
   "outputs": [],
   "source": [
    "import tensorflow as tf\n",
    "import numpy as np"
   ]
  },
  {
   "cell_type": "code",
   "execution_count": 2,
   "id": "fa5030a1",
   "metadata": {},
   "outputs": [],
   "source": [
    "# 8*4 Matrix\n",
    "x_data = [[1, 2, 1, 1],\n",
    "          [2, 1, 3, 2],\n",
    "          [3, 1, 3, 4],\n",
    "          [4, 1, 5, 5],\n",
    "          [1, 7, 5, 5],\n",
    "          [1, 2, 5, 6],\n",
    "          [1, 6, 6, 6],\n",
    "          [1, 7, 7, 7]]\n",
    "\n",
    "# ONE-HOT ENCODING 8*3 Matrix\n",
    "y_data = [[0, 0, 1],\n",
    "          [0, 0, 1],\n",
    "          [0, 0, 1],\n",
    "          [0, 1, 0],\n",
    "          [0, 1, 0],\n",
    "          [0, 1, 0],\n",
    "          [1, 0, 0],\n",
    "          [1, 0, 0]]\n",
    "\n",
    "# convert into numpy and float format\n",
    "x_data = np.asarray(x_data, dtype=np.float32)\n",
    "y_data = np.asarray(y_data, dtype=np.float32)\n",
    "\n",
    "# num classes\n",
    "nb_classes = 3"
   ]
  },
  {
   "cell_type": "markdown",
   "id": "394e6ec8",
   "metadata": {},
   "source": [
    "Softmax func은 여러 클래스를 예측할 때 유용하게 쓰인다.\\\n",
    "구조는 주어진 입력 X와 Weight W의 곱을 통해 Scores Y를 출력한다\n",
    "$$\n",
    "XW = Y$$\n",
    "Score를 softmax 함수에 입력하면 출력값이 확률로 나온다. 따라서 출력값을 총합은 반드시 1이어야 한다.\n"
   ]
  },
  {
   "cell_type": "code",
   "execution_count": null,
   "id": "26f73910",
   "metadata": {},
   "outputs": [],
   "source": []
  }
 ],
 "metadata": {
  "jupytext": {
   "formats": "ipynb,auto:light"
  },
  "kernelspec": {
   "display_name": "Python 3 (ipykernel)",
   "language": "python",
   "name": "python3"
  },
  "language_info": {
   "codemirror_mode": {
    "name": "ipython",
    "version": 3
   },
   "file_extension": ".py",
   "mimetype": "text/x-python",
   "name": "python",
   "nbconvert_exporter": "python",
   "pygments_lexer": "ipython3",
   "version": "3.9.7"
  }
 },
 "nbformat": 4,
 "nbformat_minor": 5
}
